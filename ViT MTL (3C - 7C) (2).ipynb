{
 "cells": [
  {
   "cell_type": "code",
   "execution_count": 14,
   "id": "8554f7c3",
   "metadata": {},
   "outputs": [],
   "source": [
    "import os\n",
    "import re\n",
    "import pandas as pd\n",
    "import numpy as np\n",
    "from tensorflow import keras\n",
    "import tensorflow as tf"
   ]
  },
  {
   "cell_type": "code",
   "execution_count": 15,
   "id": "0e5acce0",
   "metadata": {},
   "outputs": [],
   "source": [
    "model_path = r'C:\\Users\\91999\\OneDrive\\Desktop\\DRR project\\general\\trained_model\\A2\\DRR_MTL_3c_7c_250e'"
   ]
  },
  {
   "cell_type": "code",
   "execution_count": 16,
   "id": "712551fe",
   "metadata": {},
   "outputs": [],
   "source": [
    "base_path = r'D:\\new microscope'"
   ]
  },
  {
   "cell_type": "code",
   "execution_count": 17,
   "id": "aedd5b71",
   "metadata": {},
   "outputs": [],
   "source": [
    "output_path = r'C:\\Users\\91999\\OneDrive\\Desktop\\ViT Outputs\\ViT micro E 3c 7c.xlsx'"
   ]
  },
  {
   "cell_type": "code",
   "execution_count": 18,
   "id": "118b33d6",
   "metadata": {},
   "outputs": [],
   "source": [
    "# Define image dimensions and load the model\n",
    "img_dim = 288\n",
    "\n",
    "from tensorflow_addons.optimizers import AdamW\n",
    "\n",
    "# Register the custom object\n",
    "with tf.keras.utils.custom_object_scope({'AdamW': AdamW}):\n",
    "    model = tf.keras.models.load_model(model_path)\n",
    "#model =  tf.keras.models.load_model(model_path)"
   ]
  },
  {
   "cell_type": "code",
   "execution_count": 19,
   "id": "28c438cd",
   "metadata": {},
   "outputs": [],
   "source": [
    "# Extract image file paths\n",
    "image_file_paths = []\n",
    "for root, dirs, files in os.walk(base_path):\n",
    "    for file in files:\n",
    "        if file.endswith((\".png\", \".PNG\", \".jpeg\")):  # Add other image extensions if necessary\n",
    "            image_file_paths.append(os.path.join(root, file))\n"
   ]
  },
  {
   "cell_type": "code",
   "execution_count": 20,
   "id": "8b0a9e06",
   "metadata": {},
   "outputs": [
    {
     "name": "stdout",
     "output_type": "stream",
     "text": [
      "Found 710 files belonging to 2 classes.\n"
     ]
    }
   ],
   "source": [
    "# Load test dataset without shuffling to maintain order\n",
    "test_ds = keras.utils.image_dataset_from_directory(\n",
    "    base_path,\n",
    "    image_size=(img_dim, img_dim),\n",
    "    label_mode='int',\n",
    "    batch_size=1000,\n",
    "    shuffle=False  # Ensure no shuffling to keep image file order intact\n",
    ")"
   ]
  },
  {
   "cell_type": "code",
   "execution_count": 21,
   "id": "0cf3b203",
   "metadata": {},
   "outputs": [],
   "source": [
    "class_names = test_ds.class_names"
   ]
  },
  {
   "cell_type": "code",
   "execution_count": 22,
   "id": "29ce909f",
   "metadata": {},
   "outputs": [],
   "source": [
    "resize_and_rescale = keras.Sequential([\n",
    "  #layers.experimental.preprocessing.Resizing(IMG_SIZE, IMG_SIZE),\n",
    "  keras.layers.experimental.preprocessing.Rescaling(1./255)\n",
    "])"
   ]
  },
  {
   "cell_type": "code",
   "execution_count": 23,
   "id": "093f1cd6",
   "metadata": {},
   "outputs": [],
   "source": [
    "data_augmentation = keras.Sequential([\n",
    "    keras.layers.experimental.preprocessing.RandomFlip(\"horizontal_and_vertical\"),\n",
    "    keras.layers.experimental.preprocessing.RandomRotation(0.1),\n",
    "    #keras.layers.experimental.preprocessing.RandomFlip(\"vertical\"),\n",
    "])"
   ]
  },
  {
   "cell_type": "code",
   "execution_count": 24,
   "id": "6c1760cb",
   "metadata": {},
   "outputs": [],
   "source": [
    "# Function to prepare dataset\n",
    "AUTOTUNE = tf.data.AUTOTUNE\n",
    "def prepare(ds, augment=False):\n",
    "    def resize_and_rescale(image, label):\n",
    "        image = tf.image.resize(image, [img_dim, img_dim])\n",
    "        image = tf.cast(image, tf.float32) / 255.0\n",
    "        return image, label\n",
    "    \n",
    "    # Apply resizing and rescaling\n",
    "    ds = ds.map(lambda x, y: (resize_and_rescale(x, y)), num_parallel_calls=AUTOTUNE)\n",
    "    \n",
    "    # Apply data augmentation if specified\n",
    "    if augment:\n",
    "        data_augmentation = tf.keras.Sequential([\n",
    "            tf.keras.layers.RandomFlip(\"horizontal_and_vertical\"),\n",
    "            tf.keras.layers.RandomRotation(0.2)\n",
    "        ])\n",
    "        ds = ds.map(lambda x, y: (data_augmentation(x, training=True), y), num_parallel_calls=AUTOTUNE)\n",
    "        \n",
    "    # Use buffered prefetching\n",
    "    return ds.prefetch(buffer_size=AUTOTUNE)\n"
   ]
  },
  {
   "cell_type": "code",
   "execution_count": 25,
   "id": "e8ebef84",
   "metadata": {},
   "outputs": [],
   "source": [
    "# Prepare the test dataset\n",
    "test_ds = prepare(test_ds)\n"
   ]
  },
  {
   "cell_type": "code",
   "execution_count": 26,
   "id": "5bb4e259",
   "metadata": {},
   "outputs": [],
   "source": [
    "# Separate the images and labels\n",
    "ts_image_batch,tr_label_batch = next(iter(test_ds))\n",
    "ts_image_batch = np.asarray(ts_image_batch)"
   ]
  },
  {
   "cell_type": "code",
   "execution_count": null,
   "id": "db22d50e",
   "metadata": {},
   "outputs": [],
   "source": [
    "preds = model.predict(ts_image_batch)\n"
   ]
  },
  {
   "cell_type": "code",
   "execution_count": null,
   "id": "9b7eaa84",
   "metadata": {},
   "outputs": [],
   "source": [
    "# Extract predicted class indices and scores\n",
    "y_pred_3c = []\n",
    "for i in preds[0]:\n",
    "    y_pred_3c = np.append(y_pred_3c,np.argmax(i))\n",
    "\n",
    "y_pred_scores = []\n",
    "for i in preds[1]:\n",
    "    y_pred_scores = np.append(y_pred_scores,np.argmax(i))"
   ]
  },
  {
   "cell_type": "code",
   "execution_count": null,
   "id": "b369d4cf",
   "metadata": {},
   "outputs": [],
   "source": [
    "actual_classes = [class_names[label] for label in tr_label_batch]\n",
    "L = ['CONTROL','NON DRR','PATHOGEN']\n",
    "y_pred_classes = [L[int(label)] for label in y_pred_3c]"
   ]
  },
  {
   "cell_type": "code",
   "execution_count": null,
   "id": "fde1af51",
   "metadata": {},
   "outputs": [],
   "source": [
    "# Extract image file names using regex\n",
    "#image_file_names = [re.match(file_name_pattern, file_path).group(1) for file_path in image_file_paths[:len(ts_label_batch)]]\n",
    "image_file_names = [os.path.basename(file_path) for file_path in image_file_paths[:len(ts_image_batch)]]"
   ]
  },
  {
   "cell_type": "code",
   "execution_count": null,
   "id": "09ef910b",
   "metadata": {},
   "outputs": [],
   "source": [
    "print(len(image_file_names), len(y_pred_classes), len(y_pred_scores))"
   ]
  },
  {
   "cell_type": "code",
   "execution_count": null,
   "id": "219f342e",
   "metadata": {},
   "outputs": [],
   "source": [
    "image_file_paths = []\n",
    "for root, dirs, files in os.walk(base_path):\n",
    "    for file in files:\n",
    "        if file.endswith((\".png\", \".jpg\", \".jpeg\")):  # Add other image extensions if necessary\n",
    "            image_file_paths.append(os.path.join(root, file))\n",
    "\n",
    "print(\"Total images found:\", len(image_file_paths))\n"
   ]
  },
  {
   "cell_type": "code",
   "execution_count": null,
   "id": "76096894",
   "metadata": {},
   "outputs": [],
   "source": [
    "# Create a DataFrame with Image Name, Predicted Class, Predicted Score, Actual Class\n",
    "results_df = pd.DataFrame({\n",
    "    'Folder': actual_classes,\n",
    "    'Image Name': image_file_names,\n",
    "    'Predicted Class': y_pred_classes,\n",
    "    'Predicted Score': y_pred_scores\n",
    "})\n"
   ]
  },
  {
   "cell_type": "code",
   "execution_count": null,
   "id": "1d0b9c97",
   "metadata": {},
   "outputs": [],
   "source": [
    "# Save the DataFrame to an Excel file with a different name\n",
    "\n",
    "results_df.to_excel(excel_writer=output_path, index=False)\n",
    "\n",
    "print(f\"Results have been saved to {output_path}\")\n",
    "\n",
    "\n",
    "pd.set_option('display.max_rows', None)\n",
    "pd.set_option('display.max_columns', None)\n",
    "pd.set_option('display.width', 1000)\n",
    "pd.set_option('display.colheader_justify', 'center')\n",
    "pd.set_option('display.precision', 2)\n",
    "display(results_df)"
   ]
  },
  {
   "cell_type": "code",
   "execution_count": null,
   "id": "5b2aa360",
   "metadata": {},
   "outputs": [],
   "source": []
  },
  {
   "cell_type": "code",
   "execution_count": null,
   "id": "974e3fd6",
   "metadata": {},
   "outputs": [],
   "source": []
  },
  {
   "cell_type": "code",
   "execution_count": null,
   "id": "fa2c5551",
   "metadata": {},
   "outputs": [],
   "source": []
  },
  {
   "cell_type": "code",
   "execution_count": null,
   "id": "79278c89",
   "metadata": {},
   "outputs": [],
   "source": []
  },
  {
   "cell_type": "code",
   "execution_count": null,
   "id": "b7b62aa1",
   "metadata": {},
   "outputs": [],
   "source": []
  },
  {
   "cell_type": "code",
   "execution_count": null,
   "id": "6987009b",
   "metadata": {},
   "outputs": [],
   "source": []
  },
  {
   "cell_type": "code",
   "execution_count": null,
   "id": "d941208d",
   "metadata": {},
   "outputs": [],
   "source": []
  }
 ],
 "metadata": {
  "kernelspec": {
   "display_name": "Python (myenv2)",
   "language": "python",
   "name": "myenv2"
  },
  "language_info": {
   "codemirror_mode": {
    "name": "ipython",
    "version": 3
   },
   "file_extension": ".py",
   "mimetype": "text/x-python",
   "name": "python",
   "nbconvert_exporter": "python",
   "pygments_lexer": "ipython3",
   "version": "3.9.16"
  }
 },
 "nbformat": 4,
 "nbformat_minor": 5
}
